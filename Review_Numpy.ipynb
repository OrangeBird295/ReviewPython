{
  "nbformat": 4,
  "nbformat_minor": 0,
  "metadata": {
    "colab": {
      "name": " Review_Numpy.ipynb",
      "provenance": [],
      "authorship_tag": "ABX9TyPG2muhdrcW6Zjj9up9LVcI",
      "include_colab_link": true
    },
    "kernelspec": {
      "name": "python3",
      "display_name": "Python 3"
    },
    "language_info": {
      "name": "python"
    }
  },
  "cells": [
    {
      "cell_type": "markdown",
      "metadata": {
        "id": "view-in-github",
        "colab_type": "text"
      },
      "source": [
        "<a href=\"https://colab.research.google.com/github/OrangeBird295/ReviewPython/blob/main/Review_Numpy.ipynb\" target=\"_parent\"><img src=\"https://colab.research.google.com/assets/colab-badge.svg\" alt=\"Open In Colab\"/></a>"
      ]
    },
    {
      "cell_type": "markdown",
      "source": [
        "# Numpy จะคล้ายๆกับ list แต่ numpy เร็วและใช้งานหลากหลายมากกว่า "
      ],
      "metadata": {
        "id": "rQyNFKtJBxTr"
      }
    },
    {
      "cell_type": "code",
      "source": [
        "print(\"Hello\")\n",
        "a = ['a', 'b', 'c', 1, 2]\n",
        "a"
      ],
      "metadata": {
        "id": "W09yHf6WBxYs",
        "colab": {
          "base_uri": "https://localhost:8080/"
        },
        "outputId": "475277af-a610-44d3-a004-beca002607bd"
      },
      "execution_count": 3,
      "outputs": [
        {
          "output_type": "stream",
          "name": "stdout",
          "text": [
            "Hello\n"
          ]
        },
        {
          "output_type": "execute_result",
          "data": {
            "text/plain": [
              "['a', 'b', 'c', 1, 2]"
            ]
          },
          "metadata": {},
          "execution_count": 3
        }
      ]
    }
  ]
}